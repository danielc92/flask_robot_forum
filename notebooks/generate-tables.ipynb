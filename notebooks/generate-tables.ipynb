{
 "cells": [
  {
   "cell_type": "code",
   "execution_count": 1,
   "metadata": {},
   "outputs": [],
   "source": [
    "import pandas\n",
    "from datetime import datetime\n",
    "import requests\n",
    "from bs4 import BeautifulSoup as bs"
   ]
  },
  {
   "cell_type": "code",
   "execution_count": 2,
   "metadata": {},
   "outputs": [],
   "source": [
    "names = ['Scyther',\n",
    " 'Ilofoid',\n",
    " 'Rob Oto',\n",
    " 'Scrappy',\n",
    " 'Uzu',\n",
    " 'Mig',\n",
    " 'Sparky',\n",
    " 'Eya',\n",
    " 'Axg',\n",
    " 'Imx',\n",
    " 'Tera',\n",
    " 'Brobot',\n",
    " 'Ecz',\n",
    " 'Eqe',\n",
    " 'Oml',\n",
    " 'Uh',\n",
    " 'Idttron',\n",
    " 'Igk',\n",
    " 'Scrappie',\n",
    " 'Robert',\n",
    " 'Bolt',\n",
    " 'Hammer',\n",
    " 'Gigabit',\n",
    " 'Led',\n",
    " 'Ere',\n",
    " 'Mace',\n",
    " 'Dotty',\n",
    " 'Spud',\n",
    " 'Tinker',\n",
    " 'Ane',\n",
    " 'Anne Droid',\n",
    " 'Gage',\n",
    " 'Mechan',\n",
    " 'Test',\n",
    " 'Ef',\n",
    " 'Uqt',\n",
    " 'Uxip',\n",
    " 'Wire',\n",
    " 'Proto',\n",
    " 'Mechi',\n",
    " 'Twobit']"
   ]
  },
  {
   "cell_type": "markdown",
   "metadata": {},
   "source": []
  },
  {
   "cell_type": "code",
   "execution_count": 3,
   "metadata": {},
   "outputs": [],
   "source": [
    "robots = threads = comments = pandas.DataFrame()"
   ]
  },
  {
   "cell_type": "markdown",
   "metadata": {},
   "source": [
    "# Helper function to generate text for threads and comments"
   ]
  },
  {
   "cell_type": "code",
   "execution_count": 26,
   "metadata": {},
   "outputs": [],
   "source": [
    "def return_robot_text(paragraphs=1):\n",
    "    r = requests.get('http://carterschieffer.com/hello-robot/?submit=1&paras={}'.format(paragraphs))\n",
    "    soup = bs(r.content)\n",
    "    text = soup.find('div', {'class':'hello-robot-container'}).find_all('p')\n",
    "    string = [p.text + '<br><br>' for p in text]\n",
    "    string_final = ''.join(string)\n",
    "    return string_final"
   ]
  },
  {
   "cell_type": "code",
   "execution_count": 27,
   "metadata": {},
   "outputs": [
    {
     "data": {
      "text/plain": [
       "'Fiber connection rootkit traffic, IP worm wipe reboot password two-step verification DNS computer emails website AFK operating system. 100 terabytes website wipe all the data, data center DNS off the grid decrypt server farm fsociety DDoS attack disconnect malicious code hack. Anonymous system files off the grid, wipe dat file delete operating system reboot exit nodes. DDoS attack website worm, breach wipe all the data data dump disconnect code gigabit speed compromised rootkit emails nodes connect two-step verification. DDoS attack delete network emails exit nodes data center IP 100 terabytes fsociety sys admin terminal malicious code. 100 terabytes backup AFK decrypt compromised, exit nodes data center off the grid website fsociety brute-force.<br><br>Tor sys admin DDoS attack website disconnect. Delete IP worm fiber connection system files, Tor rootkit network fsociety. Boot up computer two-step verification connect IP off the grid. Two-step verification disconnect hack dat file log file virus fsociety. Off the grid RUDY attack wipe all the data backup encryption timing out anonymous, disconnect terminal reboot boot up. Nodes data center wipe all the data IP, routing protocol gigabit speed boot up delete exit nodes emails breach encryption server farm protocol malicious code.<br><br>Hack protocol rootkit, Tor IP exit nodes DDoS attack sys admin breach virus RUDY attack malware. Compromised website bonsoir data dump connect disconnect. Delete network wipe, Tor 100 terabytes IRC system data center reboot two-step verification dat file rootkit. Decrypt terminal protocol timing out offline. Two-step verification decrypt anonymous offline wipe all the data boot up, website exit nodes wipe timing out rootkit malicious code 100 terabytes. Offline sys admin server farm, compromised fsociety decrypt gigabit speed AFK Tor code traffic system files worm wipe all the data cyber security. DDoS attack RUDY attack malicious code, reboot encryption intercepting traffic operating system rootkit disconnect connect terminal.<br><br>Off the grid AFK nodes fsociety hack server farm wipe IRC worm disconnect backup reboot Tor. RUDY attack nodes encryption DNS website. System files cyber security AFK, intercepting traffic rootkit nodes log file traffic DNS breach wipe all the data. Intercepting traffic IRC brute-force worm. Computer wipe fiber connection gigabit speed IRC wipe all the data fsociety Tor log file offline. Wipe all the data website protocol rootkit, worm anonymous log file Wi-Fi emails connect DNS malicious code. Operating system bonsoir routing protocol protocol, virus wipe all the data computer Tor RUDY attack intercepting traffic AFK encryption delete.<br><br>'"
      ]
     },
     "execution_count": 27,
     "metadata": {},
     "output_type": "execute_result"
    }
   ],
   "source": [
    "return_robot_text(4)"
   ]
  },
  {
   "cell_type": "code",
   "execution_count": null,
   "metadata": {},
   "outputs": [],
   "source": []
  }
 ],
 "metadata": {
  "kernelspec": {
   "display_name": "Python 3",
   "language": "python",
   "name": "python3"
  },
  "language_info": {
   "codemirror_mode": {
    "name": "ipython",
    "version": 3
   },
   "file_extension": ".py",
   "mimetype": "text/x-python",
   "name": "python",
   "nbconvert_exporter": "python",
   "pygments_lexer": "ipython3",
   "version": "3.6.5"
  },
  "toc": {
   "base_numbering": 1,
   "nav_menu": {},
   "number_sections": true,
   "sideBar": true,
   "skip_h1_title": false,
   "title_cell": "Table of Contents",
   "title_sidebar": "Contents",
   "toc_cell": false,
   "toc_position": {},
   "toc_section_display": true,
   "toc_window_display": false
  },
  "varInspector": {
   "cols": {
    "lenName": 16,
    "lenType": 16,
    "lenVar": 40
   },
   "kernels_config": {
    "python": {
     "delete_cmd_postfix": "",
     "delete_cmd_prefix": "del ",
     "library": "var_list.py",
     "varRefreshCmd": "print(var_dic_list())"
    },
    "r": {
     "delete_cmd_postfix": ") ",
     "delete_cmd_prefix": "rm(",
     "library": "var_list.r",
     "varRefreshCmd": "cat(var_dic_list()) "
    }
   },
   "types_to_exclude": [
    "module",
    "function",
    "builtin_function_or_method",
    "instance",
    "_Feature"
   ],
   "window_display": false
  }
 },
 "nbformat": 4,
 "nbformat_minor": 2
}
